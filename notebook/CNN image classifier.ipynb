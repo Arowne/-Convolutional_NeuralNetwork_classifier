{
 "cells": [
  {
   "cell_type": "code",
   "execution_count": 108,
   "metadata": {},
   "outputs": [
    {
     "name": "stdout",
     "output_type": "stream",
     "text": [
      "(10000,)\n"
     ]
    }
   ],
   "source": [
    "from keras.datasets import cifar10\n",
    "from keras.utils import np_utils\n",
    "from keras.models import Sequential\n",
    "from keras.layers.core import Dense, Dropout, Activation, Flatten\n",
    "from keras.layers.convolutional import Conv2D, MaxPooling2D\n",
    "from keras.optimizers import SGD, Adam, RMSprop\n",
    "from sklearn.preprocessing import StandardScaler\n",
    "import matplotlib.pyplot as plt\n",
    "\n",
    "import matplotlib.pyplot as plt\n",
    "import tensorflow as tf\n",
    "import numpy as np\n",
    "import pandas as pd\n",
    "from sklearn.model_selection import train_test_split\n",
    "\n",
    "#Improve models performance and reduce scale problematic\n",
    "# Reducing pixels value for models speed (using (x-u)/s) where x equal to images_pixels - average_of_images_pixels / difference_pixel_beetween_each_pixel\n",
    "from sklearn.preprocessing import StandardScaler\n",
    "import sys\n",
    "\n",
    "# Fashion MNIST\n",
    "fashion_mnist = tf.keras.datasets.fashion_mnist\n",
    "(images, targets), (images_test, targets_test) = fashion_mnist.load_data()\n",
    "\n",
    "# Get only a subpart of the dataset\n",
    "images = images[:10000]\n",
    "targets = targets [:10000]\n",
    "\n",
    "images = images/255\n",
    "images_test = images_test/255\n",
    "\n",
    "images = images.reshape(10000, 28 ,28 ,1)\n",
    "images_test = images_test.reshape(10000, 28 ,28 ,1)\n",
    "print(targets.shape)"
   ]
  },
  {
   "cell_type": "code",
   "execution_count": 109,
   "metadata": {},
   "outputs": [
    {
     "data": {
      "image/png": "[encoded data removed]",
      "text/plain": [
       "<Figure size 432x288 with 1 Axes>"
      ]
     },
     "metadata": {},
     "output_type": "display_data"
    }
   ],
   "source": [
    "targets_names = [\"T-shirt/top\", \"Trouser\", \"Pullover\", \"Dress\", \"Coat\", \"Sandal\", \n",
    "                 \"Shirt\", \"Sneaker\", \"Bag\", \"Ankle boot\"]\n",
    "\n",
    "plt.imshow(np.reshape(images[11], (28, 28)), cmap=\"binary\")\n",
    "plt.title(targets_names[targets[11]])\n",
    "plt.show()"
   ]
  },
  {
   "cell_type": "code",
   "execution_count": 110,
   "metadata": {},
   "outputs": [
    {
     "name": "stdout",
     "output_type": "stream",
     "text": [
      "Model: \"sequential_12\"\n",
      "_________________________________________________________________\n",
      "Layer (type)                 Output Shape              Param #   \n",
      "=================================================================\n",
      "conv2d_12 (Conv2D)           (None, 28, 28, 28)        280       \n",
      "_________________________________________________________________\n",
      "activation_34 (Activation)   (None, 28, 28, 28)        0         \n",
      "_________________________________________________________________\n",
      "max_pooling2d_12 (MaxPooling (None, 14, 14, 28)        0         \n",
      "_________________________________________________________________\n",
      "dropout_11 (Dropout)         (None, 14, 14, 28)        0         \n",
      "_________________________________________________________________\n",
      "flatten_12 (Flatten)         (None, 5488)              0         \n",
      "_________________________________________________________________\n",
      "dense_23 (Dense)             (None, 256)               1405184   \n",
      "_________________________________________________________________\n",
      "activation_35 (Activation)   (None, 256)               0         \n",
      "_________________________________________________________________\n",
      "dense_24 (Dense)             (None, 10)                2570      \n",
      "_________________________________________________________________\n",
      "activation_36 (Activation)   (None, 10)                0         \n",
      "=================================================================\n",
      "Total params: 1,408,034\n",
      "Trainable params: 1,408,034\n",
      "Non-trainable params: 0\n",
      "_________________________________________________________________\n"
     ]
    }
   ],
   "source": [
    "#Init model\n",
    "model = Sequential()\n",
    "\n",
    "# Add convolutionnal window operation layer\n",
    "model.add(\n",
    "    Conv2D(28, (3,3), padding='same', input_shape=(28, 28, 1))\n",
    ")\n",
    "# Delete negative values\n",
    "model.add(Activation('relu'))\n",
    "\n",
    "# Shrink image important shape\n",
    "model.add(\n",
    "    MaxPooling2D(pool_size=(2,2))\n",
    ")\n",
    "\n",
    "# Avoid overfitting\n",
    "model.add(Dropout(0.25))\n",
    "\n",
    "\n",
    "#CREATE ANN with convolutional and pooling output\n",
    "\n",
    "#Create vector of pooling output result\n",
    "model.add(Flatten())\n",
    "\n",
    "#Create hidden layer\n",
    "model.add(\n",
    "    Dense(256)\n",
    ")\n",
    "\n",
    "# Activate neurones\n",
    "model.add(Activation('relu'))\n",
    "#Init output layer\n",
    "model.add(\n",
    "    Dense(10)\n",
    ")\n",
    "\n",
    "# Use softmax for probability distribution\n",
    "model.add(Activation('softmax'))\n",
    "model.summary()\n"
   ]
  },
  {
   "cell_type": "code",
   "execution_count": 111,
   "metadata": {},
   "outputs": [
    {
     "name": "stdout",
     "output_type": "stream",
     "text": [
      "Train on 6000 samples, validate on 4000 samples\n",
      "Epoch 1/10\n",
      "6000/6000 [==============================] - 1s 172us/step - loss: 1.1783 - accuracy: 0.5838 - val_loss: 0.7250 - val_accuracy: 0.7385\n",
      "Epoch 2/10\n",
      "6000/6000 [==============================] - 1s 145us/step - loss: 0.5995 - accuracy: 0.7908 - val_loss: 0.5454 - val_accuracy: 0.8018\n",
      "Epoch 3/10\n",
      "6000/6000 [==============================] - 1s 145us/step - loss: 0.4656 - accuracy: 0.8362 - val_loss: 0.4786 - val_accuracy: 0.8267\n",
      "Epoch 4/10\n",
      "6000/6000 [==============================] - 1s 145us/step - loss: 0.4095 - accuracy: 0.8585 - val_loss: 0.4369 - val_accuracy: 0.8380\n",
      "Epoch 5/10\n",
      "6000/6000 [==============================] - 1s 146us/step - loss: 0.3774 - accuracy: 0.8708 - val_loss: 0.4275 - val_accuracy: 0.8457\n",
      "Epoch 6/10\n",
      "6000/6000 [==============================] - 1s 143us/step - loss: 0.3570 - accuracy: 0.8785 - val_loss: 0.4011 - val_accuracy: 0.8608\n",
      "Epoch 7/10\n",
      "6000/6000 [==============================] - 1s 144us/step - loss: 0.3349 - accuracy: 0.8842 - val_loss: 0.4080 - val_accuracy: 0.8522\n",
      "Epoch 8/10\n",
      "6000/6000 [==============================] - 1s 145us/step - loss: 0.3222 - accuracy: 0.8877 - val_loss: 0.3882 - val_accuracy: 0.8608\n",
      "Epoch 9/10\n",
      "6000/6000 [==============================] - 1s 146us/step - loss: 0.3087 - accuracy: 0.8942 - val_loss: 0.3816 - val_accuracy: 0.8630\n",
      "Epoch 10/10\n",
      "6000/6000 [==============================] - 1s 145us/step - loss: 0.2951 - accuracy: 0.8998 - val_loss: 0.3924 - val_accuracy: 0.8593\n"
     ]
    }
   ],
   "source": [
    "# Init model parameters\n",
    "model.compile(\n",
    "    loss=\"sparse_categorical_crossentropy\",\n",
    "    optimizer=Adam(lr=0.001),\n",
    "    metrics=['accuracy'] \n",
    ")\n",
    "\n",
    "history = model.fit(\n",
    "    images,\n",
    "    targets,\n",
    "    batch_size=512,\n",
    "    epochs=10,\n",
    "    validation_split=0.4,\n",
    "    shuffle=True,\n",
    "    verbose=1\n",
    ")"
   ]
  },
  {
   "cell_type": "code",
   "execution_count": 112,
   "metadata": {},
   "outputs": [
    {
     "data": {
      "image/png": "[encoded data removed]",
      "text/plain": [
       "<Figure size 432x288 with 1 Axes>"
      ]
     },
     "metadata": {},
     "output_type": "display_data"
    },
    {
     "data": {
      "image/png": "[encoded data removed]",
      "text/plain": [
       "<Figure size 432x288 with 1 Axes>"
      ]
     },
     "metadata": {},
     "output_type": "display_data"
    }
   ],
   "source": [
    "loss_curve = history.history['loss']\n",
    "acc_curve = history.history['accuracy']\n",
    "\n",
    "\n",
    "val_loss_curve = history.history['val_loss']\n",
    "val_acc_curve = history.history['val_accuracy']\n",
    "\n",
    "plt.plot(loss_curve)\n",
    "plt.plot(val_loss_curve)\n",
    "plt.title('loss')\n",
    "plt.show()\n",
    "\n",
    "plt.plot(acc_curve)\n",
    "plt.plot(val_acc_curve)\n",
    "plt.title('Accuracy')\n",
    "plt.show()"
   ]
  },
  {
   "cell_type": "code",
   "execution_count": 113,
   "metadata": {},
   "outputs": [
    {
     "name": "stdout",
     "output_type": "stream",
     "text": [
      "10000/10000 [==============================] - 1s 66us/step\n"
     ]
    },
    {
     "data": {
      "text/plain": [
       "[0.41272987055778504, 0.8543000221252441]"
      ]
     },
     "execution_count": 113,
     "metadata": {},
     "output_type": "execute_result"
    }
   ],
   "source": [
    "model.evaluate(images_test, targets_test)"
   ]
  },
  {
   "cell_type": "code",
   "execution_count": 121,
   "metadata": {},
   "outputs": [
    {
     "name": "stdout",
     "output_type": "stream",
     "text": [
      "10000/10000 [==============================] - 1s 62us/step\n",
      "Test Loss 0.41272987055778504\n",
      "Test Accuracy 0.8543000221252441\n",
      "[[3.4798618e-04 3.4315271e-05 5.5741994e-03 1.0129004e-03 2.1648637e-03\n",
      "  9.7486620e-05 1.7555074e-03 7.1580580e-05 9.8892629e-01 1.4823462e-05]]\n",
      "8\n",
      "8\n"
     ]
    }
   ],
   "source": [
    "#predict = model.predict(images_test[1900], steps=1)\n",
    "\n",
    "loss, acc = model.evaluate(images_test, targets_test)\n",
    "print(\"Test Loss\", loss)\n",
    "print(\"Test Accuracy\", acc)\n",
    "\n",
    "prediction = model.predict(images_test[2000].reshape(1, 28, 28, 1))\n",
    "\n",
    "print(prediction)\n",
    "print(targets_test[2000])\n",
    "print(np.argmax(prediction))"
   ]
  },
  {
   "cell_type": "code",
   "execution_count": null,
   "metadata": {},
   "outputs": [],
   "source": []
  }
 ],
 "metadata": {
  "kernelspec": {
   "display_name": "Python 3",
   "language": "python",
   "name": "python3"
  },
  "language_info": {
   "codemirror_mode": {
    "name": "ipython",
    "version": 3
   },
   "file_extension": ".py",
   "mimetype": "text/x-python",
   "name": "python",
   "nbconvert_exporter": "python",
   "pygments_lexer": "ipython3",
   "version": "3.6.9"
  }
 },
 "nbformat": 4,
 "nbformat_minor": 2
}
