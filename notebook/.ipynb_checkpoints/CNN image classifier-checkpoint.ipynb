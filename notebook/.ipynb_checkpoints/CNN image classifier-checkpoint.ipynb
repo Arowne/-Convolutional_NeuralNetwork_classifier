{
 "cells": [
  {
   "cell_type": "code",
   "execution_count": 99,
   "metadata": {},
   "outputs": [
    {
     "ename": "ValueError",
     "evalue": "cannot reshape array of size 47040000 into shape (10000,28,28,1)",
     "output_type": "error",
     "traceback": [
      "\u001b[0;31m---------------------------------------\u001b[0m",
      "\u001b[0;31mValueError\u001b[0mTraceback (most recent call last)",
      "\u001b[0;32m<ipython-input-99-fd8717e6b33a>\u001b[0m in \u001b[0;36m<module>\u001b[0;34m()\u001b[0m\n\u001b[1;32m     28\u001b[0m \u001b[0mimages_test\u001b[0m \u001b[0;34m=\u001b[0m \u001b[0mimages\u001b[0m\u001b[0;34m/\u001b[0m\u001b[0;36m255\u001b[0m\u001b[0;34m\u001b[0m\u001b[0;34m\u001b[0m\u001b[0m\n\u001b[1;32m     29\u001b[0m \u001b[0;34m\u001b[0m\u001b[0m\n\u001b[0;32m---> 30\u001b[0;31m \u001b[0mimages\u001b[0m \u001b[0;34m=\u001b[0m \u001b[0mimages\u001b[0m\u001b[0;34m.\u001b[0m\u001b[0mreshape\u001b[0m\u001b[0;34m(\u001b[0m\u001b[0;36m10000\u001b[0m\u001b[0;34m,\u001b[0m \u001b[0;36m28\u001b[0m \u001b[0;34m,\u001b[0m\u001b[0;36m28\u001b[0m \u001b[0;34m,\u001b[0m\u001b[0;36m1\u001b[0m\u001b[0;34m)\u001b[0m\u001b[0;34m\u001b[0m\u001b[0;34m\u001b[0m\u001b[0m\n\u001b[0m\u001b[1;32m     31\u001b[0m \u001b[0mimages_test\u001b[0m \u001b[0;34m=\u001b[0m \u001b[0mimages_test\u001b[0m\u001b[0;34m.\u001b[0m\u001b[0mreshape\u001b[0m\u001b[0;34m(\u001b[0m\u001b[0;36m10000\u001b[0m\u001b[0;34m,\u001b[0m \u001b[0;36m28\u001b[0m \u001b[0;34m,\u001b[0m\u001b[0;36m28\u001b[0m \u001b[0;34m,\u001b[0m\u001b[0;36m1\u001b[0m\u001b[0;34m)\u001b[0m\u001b[0;34m\u001b[0m\u001b[0;34m\u001b[0m\u001b[0m\n\u001b[1;32m     32\u001b[0m \u001b[0mprint\u001b[0m\u001b[0;34m(\u001b[0m\u001b[0mtargets\u001b[0m\u001b[0;34m.\u001b[0m\u001b[0mshape\u001b[0m\u001b[0;34m)\u001b[0m\u001b[0;34m\u001b[0m\u001b[0;34m\u001b[0m\u001b[0m\n",
      "\u001b[0;31mValueError\u001b[0m: cannot reshape array of size 47040000 into shape (10000,28,28,1)"
     ]
    }
   ],
   "source": [
    "from keras.datasets import cifar10\n",
    "from keras.utils import np_utils\n",
    "from keras.models import Sequential\n",
    "from keras.layers.core import Dense, Dropout, Activation, Flatten\n",
    "from keras.layers.convolutional import Conv2D, MaxPooling2D\n",
    "from keras.optimizers import SGD, Adam, RMSprop\n",
    "from sklearn.preprocessing import StandardScaler\n",
    "import matplotlib.pyplot as plt\n",
    "\n",
    "import matplotlib.pyplot as plt\n",
    "import tensorflow as tf\n",
    "import numpy as np\n",
    "import pandas as pd\n",
    "from sklearn.model_selection import train_test_split\n",
    "\n",
    "#Improve models performance and reduce scale problematic\n",
    "# Reducing pixels value for models speed (using (x-u)/s) where x equal to images_pixels - average_of_images_pixels / difference_pixel_beetween_each_pixel\n",
    "from sklearn.preprocessing import StandardScaler\n",
    "import sys\n",
    "\n",
    "# Fashion MNIST\n",
    "fashion_mnist = tf.keras.datasets.fashion_mnist\n",
    "(images, targets), (images_test, targets_test) = fashion_mnist.load_data()\n",
    "\n",
    "# Get only a subpart of the dataset\n",
    "images = images/255\n",
    "images_test = images/255\n",
    "\n",
    "images = images.reshape(10000, 28 ,28 ,1)\n",
    "images_test = images_test.reshape(10000, 28 ,28 ,1)\n",
    "print(targets.shape)"
   ]
  },
  {
   "cell_type": "code",
   "execution_count": 100,
   "metadata": {},
   "outputs": [
    {
     "data": {
      "image/png": "[encoded data removed]",
      "text/plain": [
       "<Figure size 432x288 with 1 Axes>"
      ]
     },
     "metadata": {},
     "output_type": "display_data"
    }
   ],
   "source": [
    "targets_names = [\"T-shirt/top\", \"Trouser\", \"Pullover\", \"Dress\", \"Coat\", \"Sandal\", \n",
    "                 \"Shirt\", \"Sneaker\", \"Bag\", \"Ankle boot\"]\n",
    "\n",
    "plt.imshow(np.reshape(images[11], (28, 28)), cmap=\"binary\")\n",
    "plt.title(targets_names[targets[11]])\n",
    "plt.show()"
   ]
  },
  {
   "cell_type": "code",
   "execution_count": 92,
   "metadata": {},
   "outputs": [
    {
     "name": "stdout",
     "output_type": "stream",
     "text": [
      "Model: \"sequential_10\"\n",
      "_________________________________________________________________\n",
      "Layer (type)                 Output Shape              Param #   \n",
      "=================================================================\n",
      "conv2d_10 (Conv2D)           (None, 28, 28, 28)        280       \n",
      "_________________________________________________________________\n",
      "activation_28 (Activation)   (None, 28, 28, 28)        0         \n",
      "_________________________________________________________________\n",
      "max_pooling2d_10 (MaxPooling (None, 14, 14, 28)        0         \n",
      "_________________________________________________________________\n",
      "dropout_9 (Dropout)          (None, 14, 14, 28)        0         \n",
      "_________________________________________________________________\n",
      "flatten_10 (Flatten)         (None, 5488)              0         \n",
      "_________________________________________________________________\n",
      "dense_19 (Dense)             (None, 256)               1405184   \n",
      "_________________________________________________________________\n",
      "activation_29 (Activation)   (None, 256)               0         \n",
      "_________________________________________________________________\n",
      "dense_20 (Dense)             (None, 10)                2570      \n",
      "_________________________________________________________________\n",
      "activation_30 (Activation)   (None, 10)                0         \n",
      "=================================================================\n",
      "Total params: 1,408,034\n",
      "Trainable params: 1,408,034\n",
      "Non-trainable params: 0\n",
      "_________________________________________________________________\n"
     ]
    }
   ],
   "source": [
    "#Init model\n",
    "model = Sequential()\n",
    "\n",
    "# Add convolutionnal window operation layer\n",
    "model.add(\n",
    "    Conv2D(28, (3,3), padding='same', input_shape=(28, 28, 1))\n",
    ")\n",
    "# Delete negative values\n",
    "model.add(Activation('relu'))\n",
    "\n",
    "# Shrink image important shape\n",
    "model.add(\n",
    "    MaxPooling2D(pool_size=(2,2))\n",
    ")\n",
    "\n",
    "# Avoid overfitting\n",
    "model.add(Dropout(0.25))\n",
    "\n",
    "\n",
    "#CREATE ANN with convolutional and pooling output\n",
    "\n",
    "#Create vector of pooling output result\n",
    "model.add(Flatten())\n",
    "\n",
    "#Create hidden layer\n",
    "model.add(\n",
    "    Dense(256)\n",
    ")\n",
    "\n",
    "# Activate neurones\n",
    "model.add(Activation('relu'))\n",
    "#Init output layer\n",
    "model.add(\n",
    "    Dense(10)\n",
    ")\n",
    "\n",
    "# Use softmax for probability distribution\n",
    "model.add(Activation('softmax'))\n",
    "model.summary()\n"
   ]
  },
  {
   "cell_type": "code",
   "execution_count": 96,
   "metadata": {},
   "outputs": [
    {
     "name": "stdout",
     "output_type": "stream",
     "text": [
      "Train on 6000 samples, validate on 4000 samples\n",
      "Epoch 1/10\n",
      "6000/6000 [==============================] - 1s 168us/step - loss: 0.4094 - accuracy: 0.8600 - val_loss: 0.4223 - val_accuracy: 0.8435\n",
      "Epoch 2/10\n",
      "6000/6000 [==============================] - 1s 150us/step - loss: 0.3197 - accuracy: 0.8888 - val_loss: 0.3546 - val_accuracy: 0.8723\n",
      "Epoch 3/10\n",
      "6000/6000 [==============================] - 1s 149us/step - loss: 0.2714 - accuracy: 0.9065 - val_loss: 0.3239 - val_accuracy: 0.8865\n",
      "Epoch 4/10\n",
      "6000/6000 [==============================] - 1s 148us/step - loss: 0.2550 - accuracy: 0.9133 - val_loss: 0.3250 - val_accuracy: 0.8873\n",
      "Epoch 5/10\n",
      "6000/6000 [==============================] - 1s 147us/step - loss: 0.2398 - accuracy: 0.9177 - val_loss: 0.3157 - val_accuracy: 0.8913\n",
      "Epoch 6/10\n",
      "6000/6000 [==============================] - 1s 154us/step - loss: 0.2223 - accuracy: 0.9252 - val_loss: 0.3065 - val_accuracy: 0.8935\n",
      "Epoch 7/10\n",
      "6000/6000 [==============================] - 1s 154us/step - loss: 0.2165 - accuracy: 0.9282 - val_loss: 0.3091 - val_accuracy: 0.8928\n",
      "Epoch 8/10\n",
      "6000/6000 [==============================] - 1s 155us/step - loss: 0.2063 - accuracy: 0.9317 - val_loss: 0.3005 - val_accuracy: 0.8978\n",
      "Epoch 9/10\n",
      "6000/6000 [==============================] - 1s 157us/step - loss: 0.1977 - accuracy: 0.9332 - val_loss: 0.3068 - val_accuracy: 0.8955\n",
      "Epoch 10/10\n",
      "6000/6000 [==============================] - 1s 150us/step - loss: 0.1891 - accuracy: 0.9362 - val_loss: 0.3049 - val_accuracy: 0.8953\n"
     ]
    }
   ],
   "source": [
    "# Init model parameters\n",
    "model.compile(\n",
    "    loss=\"sparse_categorical_crossentropy\",\n",
    "    optimizer=Adam(lr=0.001),\n",
    "    metrics=['accuracy'] \n",
    ")\n",
    "\n",
    "history = model.fit(\n",
    "    images,\n",
    "    targets,\n",
    "    batch_size=512,\n",
    "    epochs=10,\n",
    "    validation_split=0.4,\n",
    "    shuffle=True,\n",
    "    verbose=1\n",
    ")"
   ]
  },
  {
   "cell_type": "code",
   "execution_count": 97,
   "metadata": {},
   "outputs": [
    {
     "data": {
      "image/png": "[encoded data removed]",
      "text/plain": [
       "<Figure size 432x288 with 1 Axes>"
      ]
     },
     "metadata": {},
     "output_type": "display_data"
    },
    {
     "data": {
      "image/png": "[encoded data removed]",
      "text/plain": [
       "<Figure size 432x288 with 1 Axes>"
      ]
     },
     "metadata": {},
     "output_type": "display_data"
    }
   ],
   "source": [
    "loss_curve = history.history['loss']\n",
    "acc_curve = history.history['accuracy']\n",
    "\n",
    "\n",
    "val_loss_curve = history.history['val_loss']\n",
    "val_acc_curve = history.history['val_accuracy']\n",
    "\n",
    "plt.plot(loss_curve)\n",
    "plt.plot(val_loss_curve)\n",
    "plt.title('loss')\n",
    "plt.show()\n",
    "\n",
    "plt.plot(acc_curve)\n",
    "plt.plot(val_acc_curve)\n",
    "plt.title('Accuracy')\n",
    "plt.show()"
   ]
  },
  {
   "cell_type": "code",
   "execution_count": 98,
   "metadata": {},
   "outputs": [
    {
     "name": "stdout",
     "output_type": "stream",
     "text": [
      "10000/10000 [==============================] - 1s 63us/step\n"
     ]
    },
    {
     "data": {
      "text/plain": [
       "[4.006500458908081, 0.10000000149011612]"
      ]
     },
     "execution_count": 98,
     "metadata": {},
     "output_type": "execute_result"
    }
   ],
   "source": [
    "model.evaluate(images_test, targets_test)"
   ]
  },
  {
   "cell_type": "code",
   "execution_count": null,
   "metadata": {},
   "outputs": [],
   "source": []
  },
  {
   "cell_type": "code",
   "execution_count": null,
   "metadata": {},
   "outputs": [],
   "source": []
  }
 ],
 "metadata": {
  "kernelspec": {
   "display_name": "Python 3",
   "language": "python",
   "name": "python3"
  },
  "language_info": {
   "codemirror_mode": {
    "name": "ipython",
    "version": 3
   },
   "file_extension": ".py",
   "mimetype": "text/x-python",
   "name": "python",
   "nbconvert_exporter": "python",
   "pygments_lexer": "ipython3",
   "version": "3.6.9"
  }
 },
 "nbformat": 4,
 "nbformat_minor": 2
}
